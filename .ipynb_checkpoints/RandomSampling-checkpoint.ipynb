{
 "cells": [
  {
   "cell_type": "markdown",
   "metadata": {},
   "source": [
    "# Objective: Introducing a few methods to do random sampling in Python"
   ]
  },
  {
   "cell_type": "markdown",
   "metadata": {},
   "source": [
    "## 1. The basics\n",
    "\n",
    "random.random(), random.randrange(), random.shuffle, random.choice(), random.sample()"
   ]
  },
  {
   "cell_type": "code",
   "execution_count": 1,
   "metadata": {
    "collapsed": true
   },
   "outputs": [],
   "source": [
    "import random\n",
    "#to produce deterministic results, set the seed\n",
    "#e.g., random.seed(10)"
   ]
  },
  {
   "cell_type": "code",
   "execution_count": 6,
   "metadata": {
    "collapsed": false
   },
   "outputs": [
    {
     "name": "stdout",
     "output_type": "stream",
     "text": [
      "0.6806684906108718\n",
      "[0.4368723733629436, 0.7799009386145662, 0.6501239429794473, 0.7779213486675916]\n",
      "1\n",
      "3\n"
     ]
    }
   ],
   "source": [
    "# a random number between 0 and 1\n",
    "print(random.random())\n",
    "\n",
    "# 4 random numbers between 0 and 1\n",
    "print([random.random() for _ in range(4)])\n",
    "\n",
    "# a random integer in [0,3)\n",
    "print(random.randrange(3))\n",
    "\n",
    "# a random integer in (3,6)\n",
    "print(random.randrange(3, 6))"
   ]
  },
  {
   "cell_type": "code",
   "execution_count": 11,
   "metadata": {
    "collapsed": false
   },
   "outputs": [
    {
     "name": "stdout",
     "output_type": "stream",
     "text": [
      "[3, 0, 2, 4, 1]\n"
     ]
    }
   ],
   "source": [
    "# randomly shuffle an array:\n",
    "up_to_five = list(range(5))\n",
    "random.shuffle(up_to_five)\n",
    "print(up_to_five)"
   ]
  },
  {
   "cell_type": "code",
   "execution_count": 12,
   "metadata": {
    "collapsed": false
   },
   "outputs": [
    {
     "name": "stdout",
     "output_type": "stream",
     "text": [
      "Thousand Oaks\n"
     ]
    }
   ],
   "source": [
    "# randomly choose one element from a list\n",
    "my_fav_city = random.choice([\"Evanston\", \"Chicago\", \"Thousand Oaks\"])\n",
    "print(my_fav_city)"
   ]
  },
  {
   "cell_type": "markdown",
   "metadata": {},
   "source": [
    "## 2. Choose k random numbers from a list (with or without replacement)"
   ]
  },
  {
   "cell_type": "code",
   "execution_count": 22,
   "metadata": {
    "collapsed": false
   },
   "outputs": [
    {
     "name": "stdout",
     "output_type": "stream",
     "text": [
      "[0, 6, 5, 2, 3, 5, 5]\n"
     ]
    }
   ],
   "source": [
    "source = list(range(10))\n",
    "# randomly choose 7 numbers from a list (with replacement)\n",
    "choose7_withReplacement = [random.choice(source) \n",
    "                           for _ in range(7)]\n",
    "print(choose7_withReplacement)"
   ]
  },
  {
   "cell_type": "code",
   "execution_count": 23,
   "metadata": {
    "collapsed": false
   },
   "outputs": [
    {
     "name": "stdout",
     "output_type": "stream",
     "text": [
      "[8, 5, 4, 0, 7, 1, 9]\n"
     ]
    }
   ],
   "source": [
    "# randomly choose 7 numbers from a list (without replacement)\n",
    "choose7_withOutReplacement = random.sample(source, 7)\n",
    "print(choose7_withOutReplacement)"
   ]
  },
  {
   "cell_type": "markdown",
   "metadata": {},
   "source": [
    "## 3. Online sampling: Choose k random numbers from a stream of numbers with size n, where n can grow as we process; n can be very large so that the list won't fit into memory, or n can be unknown.\n",
    "\n",
    "## $\\rightarrow$ Reservoir sampling\n",
    "https://en.wikipedia.org/wiki/Reservoir_sampling\n",
    "\n",
    "Below, we implement the most common method: Algorithm R\n",
    "\n",
    "S[1..n] is the stream to process, R[1..k] will contain the returned k random samples."
   ]
  },
  {
   "cell_type": "code",
   "execution_count": 33,
   "metadata": {
    "collapsed": true
   },
   "outputs": [],
   "source": [
    "#Assume we have a Stream object with the following methods:\n",
    "class Stream(object):\n",
    "    def __init__(self, n):# n is the current length of the stream\n",
    "        self.n = n\n",
    "\n",
    "    def hasNext(self):#return 1 if the stream continues\n",
    "        #assume the stream end at 100 (unknown to user)\n",
    "        return 1 if self.n <= 100 else 0\n",
    "    \n",
    "    def getNext(self):#return a random next number\n",
    "        #assume the streamn consists of numbers 0,1,...,9\n",
    "        return random.randrange(10) if self.hasNext() else None\n",
    "    \n",
    "    def update(self):#increase the stream length by 1\n",
    "        self.n += 1\n",
    "        \n",
    "    def leng(self): #return length of current stream\n",
    "        return self.n "
   ]
  },
  {
   "cell_type": "code",
   "execution_count": 101,
   "metadata": {
    "collapsed": false
   },
   "outputs": [
    {
     "name": "stdout",
     "output_type": "stream",
     "text": [
      "[8, 4, 8, 8, 3, 0, 5, 3, 8, 5, 7, 1, 2, 4, 9, 4, 9, 5, 1, 5, 8, 1, 7, 2, 1, 9, 1, 1, 9, 5, 6, 2, 1, 4, 6, 7, 0, 1, 5, 2, 5, 7, 0, 6, 4, 6, 9, 3, 1, 4]\n"
     ]
    }
   ],
   "source": [
    "def ReservoirSample(S, k):\n",
    "    R = [None] * k\n",
    "    i = S.leng() # length of stream so far\n",
    "    #basically, i=0 to start with\n",
    "    \n",
    "    while S.hasNext(): #while the Stream continues to generate number\n",
    "        if i < k: #the first k elements 0...k-1 get assigned first\n",
    "            R[i] = S.getNext()\n",
    "        else: #i>=k, replace previous assigned element\n",
    "            j = random.randrange(0,i) #random from 0 to i-1 inclusive\n",
    "            if j <= k-1:\n",
    "                R[j] = S.getNext()\n",
    "        \n",
    "        S.update() # length of the stream is increased by 1\n",
    "        i = S.leng()\n",
    "    \n",
    "    return R\n",
    "\n",
    "            \n",
    "def experiment(): #main function\n",
    "    k = 50 #number of samples we want to pick\n",
    "    S = Stream(0) #initialize the length of stream to 0\n",
    "    samples = ReservoirSample(S, k)\n",
    "    print(samples)\n",
    "            \n",
    "if __name__ == \"__main__\":\n",
    "    experiment()"
   ]
  },
  {
   "cell_type": "markdown",
   "metadata": {},
   "source": [
    "## Analysis: Why does the above Algorithm R work? In other words, prove that the algorithm returns each value in the stream with probability k/i, when i is the current length of the stream:\n",
    "\n",
    "* First of all, the latest ith element is selected with probability k/i (done).\n",
    "* Now: P[the jth element from 1 to i-1 (inclusive) is replaced] = (k/i) (1/k) = 1/i. You can also see this directly from j = random.randrange(0,i), which returns a number between 0 and i-1 thus each number is chosen with probability 1/i.\n",
    "* Thus, P[the jth element between 1 and i is NOT replaced] = 1-1/i = (i-1)/i\n",
    "* Now, using induction: Assuming when the stream is at length i-1, each element is selected with probability k/(i-1) (verify that this is true for i=1,2). Now:\n",
    "    * P[the jth element survives after the latest round] = P[it survives in previous round] * P[it is not replaced in this round] = (k/(i-1)) ((i-1)/i) = k/i (done!)"
   ]
  },
  {
   "cell_type": "code",
   "execution_count": null,
   "metadata": {
    "collapsed": true
   },
   "outputs": [],
   "source": [
    "# Randomly Sample K elements from a stream of integers.\n",
    "# Stream\n",
    "# getNext()\n",
    "# hasNext()\n",
    "#\n",
    "\n",
    "## random.choice(seq)\n",
    "## Return a random element from the non-empty sequence seq. If seq is empty, raises IndexError.\n",
    "\n",
    "# K = 2\n",
    "# input: 10, 20, 20 \n",
    "\n",
    "\n",
    "\n",
    "\n",
    "\n",
    "def getNext():\n",
    "    \n",
    "    \n",
    "def hasNext():\n",
    "    \n",
    "def sample(K,Stream):\n",
    "    \n",
    "    count = 0 # number of sample\n",
    "    \n",
    "    while Stream.hasNext():\n",
    "        count = count +1\n",
    "        l[count] = Stream.getNext()\n",
    "        \n",
    "    if (K > len(l)):\n",
    "        return l\n",
    "    else:\n",
    "        current = [] # list of indices\n",
    "        sam = [] #list of K returned elements\n",
    "        for i in range(0,K):\n",
    "            j = random.randint(0,count)\n",
    "            while j in current:\n",
    "                j = random.randint(0,count)\n",
    "                sam.append(l[j])\n",
    "\n",
    "                return sam"
   ]
  }
 ],
 "metadata": {
  "kernelspec": {
   "display_name": "Python [Root]",
   "language": "python",
   "name": "Python [Root]"
  },
  "language_info": {
   "codemirror_mode": {
    "name": "ipython",
    "version": 3
   },
   "file_extension": ".py",
   "mimetype": "text/x-python",
   "name": "python",
   "nbconvert_exporter": "python",
   "pygments_lexer": "ipython3",
   "version": "3.5.2"
  }
 },
 "nbformat": 4,
 "nbformat_minor": 0
}
